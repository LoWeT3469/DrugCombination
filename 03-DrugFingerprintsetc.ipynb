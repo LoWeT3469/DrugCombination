{
 "cells": [
  {
   "cell_type": "markdown",
   "id": "d76f7f6b-ceb9-469d-af06-8ec31cc16258",
   "metadata": {},
   "source": [
    "Drug fingerprints and descriptors were generated from [RDKit](https://www.rdkit.org/docs/index.html) using the 2D structures of 104 FDA-approved drugs obtained from the NCI-ALMANAC ComboCompoundSet.sdf file. However, molecules 40 and 57 were found to be invalid, resulting in a total of **102** valid molecules."
   ]
  },
  {
   "cell_type": "code",
   "execution_count": 1,
   "id": "6cf14b9b-6348-4d89-8ca4-07250cce6db3",
   "metadata": {},
   "outputs": [
    {
     "name": "stdout",
     "output_type": "stream",
     "text": [
      "Error processing molecule 40: Python argument types in\n",
      "    rdkit.Chem.rdmolops.SanitizeMol(NoneType)\n",
      "did not match C++ signature:\n",
      "    SanitizeMol(RDKit::ROMol {lvalue} mol, unsigned long sanitizeOps=rdkit.Chem.rdmolops.SanitizeFlags.SANITIZE_ALL, bool catchErrors=False)\n",
      "Error processing molecule 57: Python argument types in\n",
      "    rdkit.Chem.rdmolops.SanitizeMol(NoneType)\n",
      "did not match C++ signature:\n",
      "    SanitizeMol(RDKit::ROMol {lvalue} mol, unsigned long sanitizeOps=rdkit.Chem.rdmolops.SanitizeFlags.SANITIZE_ALL, bool catchErrors=False)\n",
      "102\n"
     ]
    },
    {
     "name": "stderr",
     "output_type": "stream",
     "text": [
      "[16:04:21] Explicit valence for atom # 0 Cl, 2, is greater than permitted\n",
      "[16:04:21] ERROR: Could not sanitize molecule ending on line 6200\n",
      "[16:04:21] ERROR: Explicit valence for atom # 0 Cl, 2, is greater than permitted\n",
      "[16:04:21] Explicit valence for atom # 3 O, 3, is greater than permitted\n",
      "[16:04:21] ERROR: Could not sanitize molecule ending on line 8652\n",
      "[16:04:21] ERROR: Explicit valence for atom # 3 O, 3, is greater than permitted\n"
     ]
    }
   ],
   "source": [
    "# Read the Compound 2D structure: ComboCompoundSet.sdf file\n",
    "from rdkit import Chem\n",
    "from rdkit.Chem import AllChem\n",
    "\n",
    "# Path to your SDF file\n",
    "sdf_file_path = \"/nfs/turbo/med-kayvan-lab/Projects/DrugCombination/b-DrugCombination/DC_Data/NCI-ALMANAC/ComboCompoundSet.sdf\"\n",
    "\n",
    "# Read the SDF file\n",
    "suppl = Chem.SDMolSupplier(sdf_file_path)\n",
    "\n",
    "# Counter for valid molecules\n",
    "valid_molecules_count = 0\n",
    "\n",
    "# Create an empty list\n",
    "ms = []\n",
    "\n",
    "# Iterate over the molecules in the SDF file\n",
    "for idx, mol in enumerate(suppl, start=1):\n",
    "    try:\n",
    "        # Try to sanitize the molecule\n",
    "        Chem.SanitizeMol(mol)\n",
    "        # If successful, process the molecule\n",
    "        if mol is not None:\n",
    "            # Print the molecule's SMILES representation\n",
    "            ms.append(Chem.MolToSmiles(mol))\n",
    "            valid_molecules_count += 1\n",
    "    except Exception as e:\n",
    "        # If an error occurs during sanitization, skip the molecule and print the error\n",
    "        print(f\"Error processing molecule {idx}: {e}\")\n",
    "\n",
    "print(len(ms))"
   ]
  },
  {
   "cell_type": "markdown",
   "id": "94f043e4-2bfd-4a5b-8173-43626421183e",
   "metadata": {},
   "source": [
    "### 1. Fingerprints"
   ]
  },
  {
   "cell_type": "markdown",
   "id": "f6f4a1ba-ed29-4d89-a548-bcbffaf6c88d",
   "metadata": {},
   "source": [
    "1.1 RDKit (Topological) Fingerprints"
   ]
  },
  {
   "cell_type": "code",
   "execution_count": 2,
   "id": "e6414f5d-64f1-4a77-a62f-b4549622141c",
   "metadata": {},
   "outputs": [
    {
     "name": "stdout",
     "output_type": "stream",
     "text": [
      "102\n",
      "2048\n",
      "2048\n"
     ]
    }
   ],
   "source": [
    "# Create a FingeprintGenerator object for the fingerprint type of interest\n",
    "from rdkit import Chem\n",
    "from rdkit.Chem import rdFingerprintGenerator\n",
    "\n",
    "fpgen = rdFingerprintGenerator.GetRDKitFPGenerator()\n",
    "\n",
    "# Convert SMILES strings to RDKit molecules\n",
    "mols = [Chem.MolFromSmiles(smiles) for smiles in ms]\n",
    "\n",
    "# Generate fingerprints for each molecule\n",
    "fps = [fpgen.GetFingerprint(mol) for mol in mols]\n",
    "\n",
    "print(len(fps))\n",
    "print(len(fps[0]))\n",
    "print(len(fps[1]))"
   ]
  },
  {
   "cell_type": "code",
   "execution_count": 3,
   "id": "bed9d1c3-df12-41b5-be99-84809f8fccef",
   "metadata": {},
   "outputs": [
    {
     "name": "stdout",
     "output_type": "stream",
     "text": [
      "0.0446168768186227\n"
     ]
    }
   ],
   "source": [
    "# Calculate the similarity between two fingerprints\n",
    "from rdkit import DataStructs\n",
    "\n",
    "# The examples below used Tanimoto similarity, but one can use different similarity metrics:\n",
    "similarity = DataStructs.TanimotoSimilarity(fps[0], fps[1])\n",
    "print(similarity)\n",
    "\n",
    "# # Available similarity metrics include Tanimoto, Dice, Cosine, Sokal, Russel, Kulczynski, McConnaughey, and Tversky.\n",
    "# DataStructs.DiceSimilarity(fps[0],fps[1])"
   ]
  },
  {
   "cell_type": "markdown",
   "id": "046df15c-3e41-4911-8a81-fc4f19a4e02d",
   "metadata": {},
   "source": [
    "1.2 Morgan Fingerprints (Circular Fingerprints)"
   ]
  },
  {
   "cell_type": "code",
   "execution_count": 4,
   "id": "ffe341a6-c913-47ea-98fb-d37b5b972e24",
   "metadata": {},
   "outputs": [
    {
     "name": "stdout",
     "output_type": "stream",
     "text": [
      "2022.03.5\n",
      "fp: <class 'list'> 102\n",
      "fp: <class 'rdkit.DataStructs.cDataStructs.ExplicitBitVect'> 2048\n",
      "sfp: <class 'list'> 102\n",
      "sfp: <class 'rdkit.DataStructs.cDataStructs.SparseBitVect'> 4294967295\n",
      "cfp: <class 'list'> 102\n",
      "cfp: <class 'rdkit.DataStructs.cDataStructs.UIntSparseIntVect'> 2048\n",
      "scfp: <class 'list'> 102\n",
      "scfp: <class 'rdkit.DataStructs.cDataStructs.ULongSparseIntVect'> 18446744073709551615\n"
     ]
    }
   ],
   "source": [
    "from rdkit import Chem\n",
    "from rdkit.Chem import rdFingerprintGenerator\n",
    "from rdkit.Chem.Draw import IPythonConsole\n",
    "from rdkit import DataStructs\n",
    "import rdkit\n",
    "print(rdkit.__version__)\n",
    "# %pylab inline\n",
    "\n",
    "# Convert SMILES strings to RDKit molecules\n",
    "mols = [Chem.MolFromSmiles(smiles) for smiles in ms]\n",
    "\n",
    "# Create a Morgan FingeprintGenerator object for the fingerprint type of interest\n",
    "mfpgen = rdFingerprintGenerator.GetMorganGenerator(radius=2,fpSize=2048)\n",
    "\n",
    "# bit vectors:\n",
    "fps = [mfpgen.GetFingerprint(mol) for mol in mols]   # returns a bit vector of size fpSize\n",
    "print(f'fp: {type(fps)} {len(fps)}')\n",
    "print(f'fp: {type(fps[0])} {len(fps[0])}')\n",
    "\n",
    "sfps = [mfpgen.GetSparseFingerprint(mol) for mol in mols]   # returns a sparse bit vector\n",
    "print(f'sfp: {type(sfps)} {len(sfps)}')\n",
    "print(f'sfp: {type(sfps[0])} {len(sfps[0])}')\n",
    "\n",
    "# count vectors:\n",
    "cfps = [mfpgen.GetCountFingerprint(mol) for mol in mols]   # returns a count vector of size fpSize\n",
    "print(f'cfp: {type(cfps)} {len(cfps)}')\n",
    "print(f'cfp: {type(cfps[0])} {cfps[0].GetLength()}')\n",
    "\n",
    "scfps = [mfpgen.GetSparseCountFingerprint(mol) for mol in mols]   # returns a sparse count vector\n",
    "print(f'scfp: {type(scfps)} {len(scfps)}')\n",
    "print(f'scfp: {type(scfps[0])} {scfps[0].GetLength()}')"
   ]
  },
  {
   "cell_type": "code",
   "execution_count": 5,
   "id": "60962462-cf92-4836-b771-254398899789",
   "metadata": {},
   "outputs": [
    {
     "name": "stdout",
     "output_type": "stream",
     "text": [
      "<class 'pandas.core.frame.DataFrame'>\n",
      "Index: 102 entries, 740 to 763371\n",
      "Columns: 2048 entries, mfp_bv_1 to mfp_bv_2048\n",
      "dtypes: int64(2048)\n",
      "memory usage: 1.6 MB\n",
      "None\n",
      "     mfp_bv_1  mfp_bv_2  mfp_bv_3  mfp_bv_4  mfp_bv_5  mfp_bv_6  mfp_bv_7  \\\n",
      "NSC                                                                         \n",
      "740         0         1         0         0         0         0         0   \n",
      "750         0         0         0         0         0         0         0   \n",
      "752         0         0         0         0         0         0         0   \n",
      "755         0         0         0         0         0         0         0   \n",
      "762         0         0         0         0         0         0         0   \n",
      "\n",
      "     mfp_bv_8  mfp_bv_9  mfp_bv_10  ...  mfp_bv_2039  mfp_bv_2040  \\\n",
      "NSC                                 ...                             \n",
      "740         0         0          0  ...            0            0   \n",
      "750         0         0          0  ...            0            0   \n",
      "752         0         0          0  ...            0            0   \n",
      "755         0         0          0  ...            0            0   \n",
      "762         0         0          0  ...            0            0   \n",
      "\n",
      "     mfp_bv_2041  mfp_bv_2042  mfp_bv_2043  mfp_bv_2044  mfp_bv_2045  \\\n",
      "NSC                                                                    \n",
      "740            0            0            0            0            0   \n",
      "750            0            0            0            0            0   \n",
      "752            0            0            0            0            0   \n",
      "755            0            0            0            0            0   \n",
      "762            0            0            0            0            0   \n",
      "\n",
      "     mfp_bv_2046  mfp_bv_2047  mfp_bv_2048  \n",
      "NSC                                         \n",
      "740            0            0            0  \n",
      "750            0            0            0  \n",
      "752            0            0            0  \n",
      "755            0            0            0  \n",
      "762            0            0            0  \n",
      "\n",
      "[5 rows x 2048 columns]\n"
     ]
    }
   ],
   "source": [
    "import numpy as np\n",
    "import pandas as pd\n",
    "\n",
    "# Convert the list of ExplicitBitVect objects into a 2D NumPy array\n",
    "array_2d = np.array([np.array(v) for v in fps])\n",
    "\n",
    "# Reshape the array to have 102 rows and 2048 columns\n",
    "reshaped_array = array_2d.reshape(102, 2048)\n",
    "\n",
    "# Read the NSC_DrugName_SMILES.csv file to get 'NSC' values\n",
    "nsc_df = pd.read_csv('NSC_DrugName_SMILES.csv')\n",
    "\n",
    "# Set 'NSC' column as index\n",
    "nsc_df.set_index('NSC', inplace=True)\n",
    "\n",
    "# Create a DataFrame from the reshaped array with 'NSC' values as index\n",
    "df = pd.DataFrame(reshaped_array, index=nsc_df.index)\n",
    "\n",
    "# Optionally, you can set column names if needed, starting from 1\n",
    "df.columns = [f'mfp_bv_{i+1}' for i in range(2048)]\n",
    "\n",
    "print(df.info())\n",
    "print(df.head())\n",
    "# print(df.tail())\n",
    "\n",
    "# Save the DataFrame to a CSV file\n",
    "df.to_csv('mfp_bv.csv')"
   ]
  },
  {
   "cell_type": "code",
   "execution_count": 6,
   "id": "2e89249d-7f73-457a-b1d2-0c24ff88883b",
   "metadata": {},
   "outputs": [
    {
     "name": "stdout",
     "output_type": "stream",
     "text": [
      "<class 'pandas.core.frame.DataFrame'>\n",
      "Index: 102 entries, 740 to 763371\n",
      "Columns: 2048 entries, mfp_cv_1 to mfp_cv_2048\n",
      "dtypes: int64(2048)\n",
      "memory usage: 1.6 MB\n",
      "None\n",
      "     mfp_cv_1  mfp_cv_2  mfp_cv_3  mfp_cv_4  mfp_cv_5  mfp_cv_6  mfp_cv_7  \\\n",
      "NSC                                                                         \n",
      "740         0         1         0         0         0         0         0   \n",
      "750         0         0         0         0         0         0         0   \n",
      "752         0         0         0         0         0         0         0   \n",
      "755         0         0         0         0         0         0         0   \n",
      "762         0         0         0         0         0         0         0   \n",
      "\n",
      "     mfp_cv_8  mfp_cv_9  mfp_cv_10  ...  mfp_cv_2039  mfp_cv_2040  \\\n",
      "NSC                                 ...                             \n",
      "740         0         0          0  ...            0            0   \n",
      "750         0         0          0  ...            0            0   \n",
      "752         0         0          0  ...            0            0   \n",
      "755         0         0          0  ...            0            0   \n",
      "762         0         0          0  ...            0            0   \n",
      "\n",
      "     mfp_cv_2041  mfp_cv_2042  mfp_cv_2043  mfp_cv_2044  mfp_cv_2045  \\\n",
      "NSC                                                                    \n",
      "740            0            0            0            0            0   \n",
      "750            0            0            0            0            0   \n",
      "752            0            0            0            0            0   \n",
      "755            0            0            0            0            0   \n",
      "762            0            0            0            0            0   \n",
      "\n",
      "     mfp_cv_2046  mfp_cv_2047  mfp_cv_2048  \n",
      "NSC                                         \n",
      "740            0            0            0  \n",
      "750            0            0            0  \n",
      "752            0            0            0  \n",
      "755            0            0            0  \n",
      "762            0            0            0  \n",
      "\n",
      "[5 rows x 2048 columns]\n"
     ]
    }
   ],
   "source": [
    "import numpy as np\n",
    "import pandas as pd\n",
    "\n",
    "# Iterate over the elements of the UIntSparseIntVect object\n",
    "lss = []\n",
    "\n",
    "for i in range(len(cfps)):\n",
    "    ls = []  # Initialize ls as an empty list for each cfps\n",
    "    for j in range(cfps[i].GetLength()):\n",
    "        # Append each element to the list\n",
    "        ls.append(cfps[i][j])\n",
    "    lss.append(ls)\n",
    "\n",
    "# Convert the list of ExplicitBitVect objects into a 2D NumPy array\n",
    "array_2d = np.array([np.array(v) for v in lss])\n",
    "\n",
    "# Reshape the array to have 102 rows and 2048 columns\n",
    "reshaped_array = array_2d.reshape(102, 2048)\n",
    "\n",
    "# Read the NSC_DrugName_SMILES.csv file to get 'NSC' values\n",
    "nsc_df = pd.read_csv('NSC_DrugName_SMILES.csv')\n",
    "\n",
    "# Set 'NSC' column as index\n",
    "nsc_df.set_index('NSC', inplace=True)\n",
    "\n",
    "# Create a DataFrame from the reshaped array with 'NSC' values as index\n",
    "df = pd.DataFrame(reshaped_array, index=nsc_df.index)\n",
    "\n",
    "# Optionally, you can set column names if needed, starting from 1\n",
    "df.columns = [f'mfp_cv_{i+1}' for i in range(2048)]\n",
    "\n",
    "print(df.info())\n",
    "print(df.head())\n",
    "# print(df.tail())\n",
    "\n",
    "# Save the DataFrame to a CSV file\n",
    "df.to_csv('mfp_cv.csv')"
   ]
  },
  {
   "cell_type": "markdown",
   "id": "3c3b0ddf-d330-482f-b115-28101fb81595",
   "metadata": {},
   "source": [
    "1.3 MACCS Keys: there is a SMARTS-based implementation of the 166 public MACCS keys."
   ]
  },
  {
   "cell_type": "code",
   "execution_count": 7,
   "id": "cc5743c6-e183-44e0-ad64-3252dbae61ba",
   "metadata": {},
   "outputs": [
    {
     "name": "stdout",
     "output_type": "stream",
     "text": [
      "102\n",
      "167\n",
      "167\n"
     ]
    }
   ],
   "source": [
    "from rdkit.Chem import MACCSkeys\n",
    "\n",
    "# Convert SMILES strings to RDKit molecules\n",
    "mols = [Chem.MolFromSmiles(smiles) for smiles in ms]\n",
    "\n",
    "fps = [MACCSkeys.GenMACCSKeys(mol) for mol in mols]\n",
    "print(len(fps))\n",
    "print(len(fps[0]))\n",
    "print(len(fps[1]))"
   ]
  },
  {
   "cell_type": "code",
   "execution_count": 8,
   "id": "3dbb9301-4aae-425b-82ef-0e3ebc8256b3",
   "metadata": {},
   "outputs": [
    {
     "name": "stdout",
     "output_type": "stream",
     "text": [
      "<class 'pandas.core.frame.DataFrame'>\n",
      "Index: 102 entries, 740 to 763371\n",
      "Columns: 167 entries, maccsfp_1 to maccsfp_167\n",
      "dtypes: int64(167)\n",
      "memory usage: 133.9 KB\n",
      "None\n",
      "     maccsfp_1  maccsfp_2  maccsfp_3  maccsfp_4  maccsfp_5  maccsfp_6  \\\n",
      "NSC                                                                     \n",
      "740          0          0          0          0          0          0   \n",
      "750          0          0          0          0          0          0   \n",
      "752          0          0          0          0          0          0   \n",
      "755          0          0          0          0          0          0   \n",
      "762          0          0          0          0          0          0   \n",
      "\n",
      "     maccsfp_7  maccsfp_8  maccsfp_9  maccsfp_10  ...  maccsfp_158  \\\n",
      "NSC                                               ...                \n",
      "740          0          0          0           0  ...            1   \n",
      "750          0          0          0           0  ...            1   \n",
      "752          0          0          0           0  ...            0   \n",
      "755          0          0          0           0  ...            0   \n",
      "762          0          0          0           0  ...            0   \n",
      "\n",
      "     maccsfp_159  maccsfp_160  maccsfp_161  maccsfp_162  maccsfp_163  \\\n",
      "NSC                                                                    \n",
      "740            1            1            1            1            1   \n",
      "750            0            1            1            0            0   \n",
      "752            1            0            0            1            1   \n",
      "755            0            0            0            1            1   \n",
      "762            1            0            1            1            0   \n",
      "\n",
      "     maccsfp_164  maccsfp_165  maccsfp_166  maccsfp_167  \n",
      "NSC                                                      \n",
      "740            1            1            1            0  \n",
      "750            0            1            0            0  \n",
      "752            1            0            1            0  \n",
      "755            1            0            1            0  \n",
      "762            0            0            0            1  \n",
      "\n",
      "[5 rows x 167 columns]\n"
     ]
    }
   ],
   "source": [
    "import numpy as np\n",
    "import pandas as pd\n",
    "\n",
    "# Convert the list of ExplicitBitVect objects into a 2D NumPy array\n",
    "array_2d = np.array([np.array(v) for v in fps])\n",
    "\n",
    "# Reshape the array to have 102 rows and 2048 columns\n",
    "reshaped_array = array_2d.reshape(102, 167)\n",
    "\n",
    "# Read the NSC_DrugName_SMILES.csv file to get 'NSC' values\n",
    "nsc_df = pd.read_csv('NSC_DrugName_SMILES.csv')\n",
    "\n",
    "# Set 'NSC' column as index\n",
    "nsc_df.set_index('NSC', inplace=True)\n",
    "\n",
    "# Create a DataFrame from the reshaped array with 'NSC' values as index\n",
    "df = pd.DataFrame(reshaped_array, index=nsc_df.index)\n",
    "\n",
    "# Optionally, you can set column names if needed, starting from 1\n",
    "df.columns = [f'maccsfp_{i+1}' for i in range(167)]\n",
    "\n",
    "print(df.info())\n",
    "print(df.head())\n",
    "# print(df.tail())\n",
    "\n",
    "# Save the DataFrame to a CSV file\n",
    "df.to_csv('maccsfp.csv')"
   ]
  },
  {
   "cell_type": "markdown",
   "id": "725badec-3d8b-4e5d-879c-7c24b0b57626",
   "metadata": {},
   "source": [
    "### 2. Descriptors"
   ]
  },
  {
   "cell_type": "code",
   "execution_count": 9,
   "id": "e21da47a-8850-4f38-9bc3-c5db090c5ce8",
   "metadata": {},
   "outputs": [
    {
     "name": "stdout",
     "output_type": "stream",
     "text": [
      "102\n",
      "208\n",
      "208\n"
     ]
    }
   ],
   "source": [
    "# This is the code from https://greglandrum.github.io/rdkit-blog/posts/2022-12-23-descriptor-tutorial.html\n",
    "from rdkit import Chem\n",
    "import rdkit\n",
    "from rdkit.Chem import Descriptors\n",
    "# rdkit.__version__\n",
    "\n",
    "def getMolDescriptors(mol, missingVal=None):\n",
    "    ''' calculate the full list of descriptors for a molecule\n",
    "    \n",
    "        missingVal is used if the descriptor cannot be calculated\n",
    "    '''\n",
    "    res = {}\n",
    "    for nm,fn in Descriptors._descList:\n",
    "        # some of the descriptor fucntions can throw errors if they fail, catch those here:\n",
    "        try:\n",
    "            val = fn(mol)\n",
    "        except:\n",
    "            # print the error message:\n",
    "            import traceback\n",
    "            traceback.print_exc()\n",
    "            # and set the descriptor value to whatever missingVal is\n",
    "            val = missingVal\n",
    "        res[nm] = val\n",
    "    return res\n",
    "\n",
    "# Convert SMILES strings to RDKit molecules\n",
    "mols = [Chem.MolFromSmiles(smiles) for smiles in ms]\n",
    "\n",
    "descs = [getMolDescriptors(m) for m in mols]\n",
    "print(len(descs))\n",
    "print(len(descs[0]))\n",
    "print(len(descs[1]))"
   ]
  },
  {
   "cell_type": "code",
   "execution_count": 10,
   "id": "3bf61536-32a1-423d-8cec-1ff6fd8d5dd9",
   "metadata": {},
   "outputs": [
    {
     "name": "stdout",
     "output_type": "stream",
     "text": [
      "<class 'pandas.core.frame.DataFrame'>\n",
      "Index: 102 entries, 740 to 763371\n",
      "Columns: 208 entries, MaxEStateIndex to fr_urea\n",
      "dtypes: float64(104), int64(104)\n",
      "memory usage: 166.5 KB\n",
      "None\n",
      "     MaxEStateIndex  MinEStateIndex  MaxAbsEStateIndex  MinAbsEStateIndex  \\\n",
      "NSC                                                                         \n",
      "740       12.370387       -1.299841          12.370387           0.013755   \n",
      "750       10.473841       -3.398778          10.473841           0.047575   \n",
      "752        5.396667        0.286667           5.396667           0.286667   \n",
      "755        4.905046        0.547454           4.905046           0.547454   \n",
      "762        5.447377        0.000000           5.447377           0.000000   \n",
      "\n",
      "          qed    MolWt  HeavyAtomMolWt  ExactMolWt  NumValenceElectrons  \\\n",
      "NSC                                                                       \n",
      "740  0.294720  454.447         432.271  454.171316                  172   \n",
      "750  0.453313  246.306         232.194  246.023180                   86   \n",
      "752  0.501491  167.197         162.157  167.026566                   56   \n",
      "755  0.553855  152.182         148.150  152.015667                   50   \n",
      "762  0.614425  192.517         180.421  191.003532                   58   \n",
      "\n",
      "     NumRadicalElectrons  ...  fr_sulfide  fr_sulfonamd  fr_sulfone  \\\n",
      "NSC                       ...                                         \n",
      "740                    0  ...           0             0           0   \n",
      "750                    0  ...           0             0           0   \n",
      "752                    0  ...           0             0           0   \n",
      "755                    0  ...           0             0           0   \n",
      "762                    0  ...           0             0           0   \n",
      "\n",
      "     fr_term_acetylene  fr_tetrazole  fr_thiazole  fr_thiocyan  fr_thiophene  \\\n",
      "NSC                                                                            \n",
      "740                  0             0            0            0             0   \n",
      "750                  0             0            0            0             0   \n",
      "752                  0             0            0            0             0   \n",
      "755                  0             0            0            0             0   \n",
      "762                  0             0            0            0             0   \n",
      "\n",
      "     fr_unbrch_alkane  fr_urea  \n",
      "NSC                             \n",
      "740                 0        0  \n",
      "750                 3        0  \n",
      "752                 0        0  \n",
      "755                 0        0  \n",
      "762                 0        0  \n",
      "\n",
      "[5 rows x 208 columns]\n"
     ]
    }
   ],
   "source": [
    "import pandas as pd\n",
    "\n",
    "# Read the NSC_DrugName_SMILES.csv file to get 'NSC' values\n",
    "nsc_df = pd.read_csv('NSC_DrugName_SMILES.csv')\n",
    "\n",
    "# Set 'NSC' column as index\n",
    "nsc_df.set_index('NSC', inplace=True)\n",
    "\n",
    "# Create a DataFrame from the reshaped array with 'NSC' values as index\n",
    "df = pd.DataFrame(descs, index=nsc_df.index)\n",
    "\n",
    "print(df.info())\n",
    "print(df.head())\n",
    "# print(df.tail())\n",
    "\n",
    "# Save the DataFrame to a CSV file\n",
    "df.to_csv('descriptors.csv')"
   ]
  },
  {
   "cell_type": "code",
   "execution_count": 7,
   "id": "e6e079bc-0ca6-4d99-80ef-d226a7b9e59f",
   "metadata": {},
   "outputs": [
    {
     "name": "stdout",
     "output_type": "stream",
     "text": [
      "(102, 4471)\n",
      "     mfp_bv_1  mfp_bv_2  mfp_bv_3  mfp_bv_4  mfp_bv_5  mfp_bv_6  mfp_bv_7  \\\n",
      "NSC                                                                         \n",
      "740         0         1         0         0         0         0         0   \n",
      "750         0         0         0         0         0         0         0   \n",
      "752         0         0         0         0         0         0         0   \n",
      "755         0         0         0         0         0         0         0   \n",
      "762         0         0         0         0         0         0         0   \n",
      "\n",
      "     mfp_bv_8  mfp_bv_9  mfp_bv_10  ...  fr_sulfide  fr_sulfonamd  fr_sulfone  \\\n",
      "NSC                                 ...                                         \n",
      "740         0         0          0  ...           0             0           0   \n",
      "750         0         0          0  ...           0             0           0   \n",
      "752         0         0          0  ...           0             0           0   \n",
      "755         0         0          0  ...           0             0           0   \n",
      "762         0         0          0  ...           0             0           0   \n",
      "\n",
      "     fr_term_acetylene  fr_tetrazole  fr_thiazole  fr_thiocyan  fr_thiophene  \\\n",
      "NSC                                                                            \n",
      "740                  0             0            0            0             0   \n",
      "750                  0             0            0            0             0   \n",
      "752                  0             0            0            0             0   \n",
      "755                  0             0            0            0             0   \n",
      "762                  0             0            0            0             0   \n",
      "\n",
      "     fr_unbrch_alkane  fr_urea  \n",
      "NSC                             \n",
      "740                 0        0  \n",
      "750                 3        0  \n",
      "752                 0        0  \n",
      "755                 0        0  \n",
      "762                 0        0  \n",
      "\n",
      "[5 rows x 4471 columns]\n"
     ]
    }
   ],
   "source": [
    "# Concatenate four dataframes, make it as \"102DrugDescriptor.csv\"\n",
    "\n",
    "import pandas as pd\n",
    "\n",
    "# Read the four CSV files\n",
    "df_mfp_bv = pd.read_csv(\"mfp_bv.csv\", index_col=0)\n",
    "df_mfp_cv = pd.read_csv(\"mfp_cv.csv\", index_col=0)\n",
    "df_maccsfp = pd.read_csv(\"maccsfp.csv\", index_col=0)\n",
    "df_descriptors = pd.read_csv(\"descriptors.csv\", index_col=0)\n",
    "\n",
    "# Concatenate the dataframes along the columns axis\n",
    "concatenated_df = pd.concat([df_mfp_bv, df_mfp_cv, df_maccsfp, df_descriptors], axis=1)\n",
    "\n",
    "# Display information about the concatenated dataframe\n",
    "print(concatenated_df.shape)\n",
    "print(concatenated_df.head())\n",
    "\n",
    "# Save the dataframe to a new CSV file\n",
    "concatenated_df.to_csv(\"102DrugDescriptor.csv\")"
   ]
  },
  {
   "cell_type": "code",
   "execution_count": null,
   "id": "7c81bb6b-e72f-4d1c-a146-941f35cd0899",
   "metadata": {},
   "outputs": [],
   "source": []
  }
 ],
 "metadata": {
  "kernelspec": {
   "display_name": "my-rdkit-env",
   "language": "python",
   "name": "my-rdkit-env"
  },
  "language_info": {
   "codemirror_mode": {
    "name": "ipython",
    "version": 3
   },
   "file_extension": ".py",
   "mimetype": "text/x-python",
   "name": "python",
   "nbconvert_exporter": "python",
   "pygments_lexer": "ipython3",
   "version": "3.10.14"
  }
 },
 "nbformat": 4,
 "nbformat_minor": 5
}
